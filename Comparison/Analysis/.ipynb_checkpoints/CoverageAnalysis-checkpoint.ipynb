{
 "cells": [
  {
   "cell_type": "code",
   "execution_count": 1,
   "id": "e3b8bc74-60cb-4333-8a66-60be5bbbb2bc",
   "metadata": {},
   "outputs": [],
   "source": [
    "import csv\n",
    "import pandas as pd\n",
    "import numpy as np\n",
    "import matplotlib.pyplot as plt"
   ]
  },
  {
   "cell_type": "code",
   "execution_count": 2,
   "id": "e3f84e71-f0e8-4305-a72b-21361635999a",
   "metadata": {},
   "outputs": [],
   "source": [
    "base = \"CME\""
   ]
  },
  {
   "cell_type": "code",
   "execution_count": 4,
   "id": "c3354831-6a86-4639-9058-148fe1bc83fb",
   "metadata": {},
   "outputs": [],
   "source": [
    "if base == \"CME\":\n",
    "    sec = \"Dino\"\n",
    "if base == \"Dino\":\n",
    "    sec = \"CME\"\n",
    "\n",
    "Coverage = pd.read_csv(f\"{base} Base Output/ID_Coverage.csv\")\n",
    "Comparison = pd.read_csv(f\"{base} Base Output/Comparison.csv\")\n",
    "    \n",
    "df = Coverage.copy()\n",
    "df = df[[f\"ID ({base})\", \"Missing Time Points\"]]\n",
    "df[\"Missing Time Points\"] = df[\"Missing Time Points\"].apply(\n",
    "    lambda x: [int(float(i.strip())) for i in x.strip('[]').split(',') if i.strip()] if isinstance(x, str) else ([int(float(x))] if not pd.isnull(x) else []))\n",
    "df = df.explode(\"Missing Time Points\")\n",
    "merged = pd.merge(df, Comparison, left_on=[f\"ID ({base})\", \"Missing Time Points\"], right_on=[f\"ID ({base})\", \"t\"], how=\"inner\")\n",
    "\n",
    "merged.to_csv(f\"{base} Base Output/ComparisonMissingTimePoints.csv\", index = False)"
   ]
  },
  {
   "cell_type": "code",
   "execution_count": null,
   "id": "10138ddc-7bde-4095-901e-b894564c521c",
   "metadata": {},
   "outputs": [],
   "source": [
    "TL = 99\n",
    "\n",
    "Coverage_TL = Coverage[Coverage[f\"Track Length ({base})\"]==TL]\n",
    "cov = Coverage_TL.to_numpy()\n",
    "plt.bar(cov[:,0].astype(int).astype(str), 100*(cov[:,2]/cov[:,1]), width = 0.5, edgecolor = \"black\", color=\"#028A0F\")\n",
    "plt.xlabel(f\"ID ({base})\")\n",
    "plt.ylabel(\"Coverage (%)\")\n",
    "plt.title(f\"Coverage for Track Length = {TL}\")\n",
    "plt.show()\n",
    "plt.savefig(f\"{base} Base Plots/Coverage TL {TL}.png\")"
   ]
  },
  {
   "cell_type": "code",
   "execution_count": null,
   "id": "3b9ba582-5ac8-430c-93e0-962ef3fa28c2",
   "metadata": {},
   "outputs": [],
   "source": [
    "bins = np.arange(0, Comparison[\"Distance\"].max() + 2, 1)\n",
    "plt.hist(Comparison[\"Distance\"], bins = bins, density=True, edgecolor = \"black\", color=\"#028A0F\")\n",
    "plt.xlim(0,50)\n",
    "plt.xticks(np.arange(0, 50, 2))\n",
    "plt.xlabel(\"Distance\")\n",
    "plt.ylabel(\"Frequency\")\n",
    "plt.title(\"Distribution by Distance\")\n",
    "plt.show()\n",
    "plt.savefig(f\"{base} Base Plots/Histogram Distance.png\")"
   ]
  },
  {
   "cell_type": "code",
   "execution_count": null,
   "id": "8557ce9e-782f-4678-99e8-aec277fa9f27",
   "metadata": {},
   "outputs": [],
   "source": [
    "plt.hist(Comparison[f\"FI ({base})\"], bins = round(max(Comparison[f\"FI ({base})\"])), density=True, color=\"#028A0F\")\n",
    "plt.xlabel(f\"FI ({base})\")\n",
    "plt.ylabel(\"Frequency\")\n",
    "plt.title(f\"Distribution by {base} Fluorescence Intensity\")\n",
    "plt.show()\n",
    "plt.savefig(f\"{base} Base Plots/Histogram FI.png\")"
   ]
  },
  {
   "cell_type": "code",
   "execution_count": null,
   "id": "2d03c91b-c019-4a1c-8a5a-65c699336190",
   "metadata": {},
   "outputs": [],
   "source": [
    "plt.scatter(Comparison[\"Distance\"], Comparison[f\"FI ({base})\"], s = 0.5, color=\"#028A0F\")\n",
    "plt.xlabel(\"Distance\")\n",
    "plt.ylabel(f\"FI ({base})\")\n",
    "plt.title(f\"FI ({base}) vs Distance\")\n",
    "plt.show()\n",
    "plt.savefig(f\"{base} Base Plots/FI vs Distance.png\")"
   ]
  },
  {
   "cell_type": "code",
   "execution_count": null,
   "id": "d54eeae9-5a49-4dfc-89c5-3687dab42b14",
   "metadata": {},
   "outputs": [],
   "source": [
    "plt.scatter(Comparison[f\"FI ({base})\"], Comparison[f\"FI ({sec})\"], s = 0.01, color=\"#028A0F\")\n",
    "plt.xlabel(f\"FI ({base})\")\n",
    "plt.ylabel(f\"FI ({sec})\")\n",
    "plt.title(f\"FI {base} vs FI {sec}\")\n",
    "plt.show()\n",
    "plt.savefig(f\"{base} Base Plots/FI {base} vs FI {sec}.png\")"
   ]
  },
  {
   "cell_type": "code",
   "execution_count": null,
   "id": "0313efba-1a48-4035-9489-2e4eaceb311a",
   "metadata": {},
   "outputs": [],
   "source": [
    "plt.hist(merged[f\"FI ({base})\"], bins = round(max(merged[f\"FI ({base})\"])), density=True, color=\"#028A0F\")\n",
    "plt.xlabel(f\"FI ({base})\")\n",
    "plt.ylabel(\"Frequency\")\n",
    "plt.title(\"Distribution by FI for Missing Time points\")\n",
    "plt.show()\n",
    "plt.savefig(f\"{base} Base Plots/Histogram missing t FI CME.png\")"
   ]
  },
  {
   "cell_type": "code",
   "execution_count": null,
   "id": "4642ab2e-9b9d-43e8-b7ed-8128809fa094",
   "metadata": {},
   "outputs": [],
   "source": [
    "plt.scatter(merged[f\"FI ({base})\"], merged[f\"FI ({sec})\"], s = 0.01, color=\"#028A0F\")\n",
    "plt.xlabel(f\"FI ({base})\")\n",
    "plt.ylabel(f\"FI ({sec})\")\n",
    "plt.title(f\"FI {base} vs FI {sec} for Missing Time Points\")\n",
    "plt.show()\n",
    "plt.savefig(f\"{base} Base Plots/FI {base} vs FI {sec} missing t.png\")"
   ]
  },
  {
   "cell_type": "code",
   "execution_count": null,
   "id": "738da462-5774-4405-96be-34ea57f3f88a",
   "metadata": {},
   "outputs": [],
   "source": [
    "bins = np.arange(0, merged[\"Distance\"].max() + 2, 1)\n",
    "plt.hist(merged[\"Distance\"], bins = round(max(merged[\"Distance\"])), density=True, edgecolor=\"black\", color=\"#028A0F\")\n",
    "plt.xticks(np.arange(0, 100, 5))\n",
    "plt.xlabel(\"Distance\")\n",
    "plt.ylabel(\"Frequency\")\n",
    "plt.title(\"Distribution by Distance for Missing Time Points\")\n",
    "plt.show()\n",
    "plt.savefig(f\"{base} Base Plots/Histogram Distance missing t.png\")"
   ]
  }
 ],
 "metadata": {
  "kernelspec": {
   "display_name": "Python 3 (ipykernel)",
   "language": "python",
   "name": "python3"
  },
  "language_info": {
   "codemirror_mode": {
    "name": "ipython",
    "version": 3
   },
   "file_extension": ".py",
   "mimetype": "text/x-python",
   "name": "python",
   "nbconvert_exporter": "python",
   "pygments_lexer": "ipython3",
   "version": "3.10.9"
  }
 },
 "nbformat": 4,
 "nbformat_minor": 5
}
