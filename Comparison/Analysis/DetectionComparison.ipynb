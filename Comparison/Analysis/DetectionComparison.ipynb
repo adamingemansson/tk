{
 "cells": [
  {
   "cell_type": "code",
   "execution_count": 1,
   "id": "76cf6f24-3ff1-4659-b000-4676d9314bc0",
   "metadata": {},
   "outputs": [],
   "source": [
    "import csv\n",
    "import pandas as pd\n",
    "import numpy as np\n",
    "from collections import defaultdict"
   ]
  },
  {
   "cell_type": "code",
   "execution_count": 2,
   "id": "cb9a724c-dad9-4bc0-aded-71f3abc461a8",
   "metadata": {},
   "outputs": [],
   "source": [
    "base = \"CME\"\n",
    "\n",
    "threshold = 3.5\n",
    "\n",
    "file_CME = \"Input Data/detections_CME.csv\"\n",
    "file_Dino = \"Input Data/detections_Dino.csv\""
   ]
  },
  {
   "cell_type": "code",
   "execution_count": 3,
   "id": "6090c4d4-74ba-4fde-b259-0a122ed3caa3",
   "metadata": {},
   "outputs": [],
   "source": [
    "df_CME = pd.read_csv(file_CME, header = None)\n",
    "M_CME = df_CME.to_numpy()\n",
    "M_CME[:, 4] = M_CME[:, 4]-1\n",
    "\n",
    "df_Dino = pd.read_csv(file_Dino)\n",
    "df_Dino = df_Dino[[\"timepoint\",\"label_id\",\"x\",\"y\",\"z\",\"intensity\",\"max_intensity\"]]\n",
    "df_Dino = df_Dino.drop(\"max_intensity\", axis=1)\n",
    "M_Dino = df_Dino.to_numpy()\n",
    "M_Dino[:, 0] += 1\n",
    "\n",
    "if base == \"CME\":\n",
    "    comp_list = np.zeros((len(M_CME),15), dtype=object)\n",
    "    M_x = M_CME\n",
    "    M_y = M_Dino\n",
    "    sec = \"Dino\"\n",
    "if base == \"Dino\":\n",
    "    comp_list = np.zeros((len(M_Dino),15), dtype=object)\n",
    "    M_x = M_Dino\n",
    "    M_y = M_CME\n",
    "    sec = \"CME\""
   ]
  },
  {
   "cell_type": "code",
   "execution_count": 4,
   "id": "dcbc4177-b50f-40eb-b46e-a262260d5aeb",
   "metadata": {},
   "outputs": [],
   "source": [
    "t_vec = defaultdict(list)\n",
    "multi_match_list = []\n",
    "for vec_y in M_y:\n",
    "    t_vec[vec_y[0]].append(vec_y)\n",
    "\n",
    "for t_val in t_vec:\n",
    "    t_vec[t_val] = np.array(t_vec[t_val])\n",
    "\n",
    "for i, vec_x in enumerate(M_x):\n",
    "    t_val = vec_x[0]\n",
    "    y_group = t_vec[t_val]\n",
    "    diffs = y_group[:, 2:5] - vec_x[2:5]\n",
    "    dists = np.linalg.norm(diffs, axis=1)\n",
    "    min_idx = np.argmin(dists)\n",
    "    min_dist = dists[min_idx]\n",
    "    best_vec_y = y_group[min_idx]\n",
    "    comp_list[i, 0:6] = vec_x\n",
    "    comp_list[i, 6:12] = best_vec_y\n",
    "    comp_list[i, 12] = min_dist\n",
    "\n",
    "    below = np.where(dists < threshold)[0]\n",
    "    if len(below) > 0:\n",
    "        y_ids = \",\".join(str(int(x)) for x in y_group[below, 1])\n",
    "        dists_str = \",\".join(f\"{dists[j]:.2f}\" for j in below)\n",
    "    else:\n",
    "        y_ids = \"\"\n",
    "        dists_str = \"\"\n",
    "    comp_list[i, 13] = y_ids\n",
    "    comp_list[i, 14] = dists_str\n",
    "\n",
    "multi_match_array = np.array(multi_match_list, dtype=object)"
   ]
  },
  {
   "cell_type": "code",
   "execution_count": 5,
   "id": "bbef9aef-39e6-49aa-9bf0-4b6a85a5db59",
   "metadata": {},
   "outputs": [],
   "source": [
    "df_comp = pd.DataFrame(comp_list, columns = [\"t\",f\"ID ({base})\", f\"x ({base})\", f\"y ({base})\", \n",
    "                                             f\"z ({base})\", f\"FI ({base})\", \"t_ig\", f\"ID ({sec})\", \n",
    "                                             f\"x ({sec})\", f\"y ({sec})\", f\"z ({sec})\", \n",
    "                                             f\"FI ({sec})\", \"Distance\", f\"Multi ID ({sec})\", f\"Multi Distance ({sec})\"])\n",
    "\n",
    "df_comp = df_comp.drop(\"t_ig\", axis=1)\n",
    "df_sorted = df_comp.sort_values(by=[f\"ID ({base})\",\"t\"], ascending=[True, True])"
   ]
  },
  {
   "cell_type": "code",
   "execution_count": 6,
   "id": "f8250138-96c0-4cb0-8c08-5793d5281d3e",
   "metadata": {},
   "outputs": [],
   "source": [
    "df_sorted.to_csv(f\"{base} Base Output/DetectionComparison.csv\", index=False)"
   ]
  }
 ],
 "metadata": {
  "kernelspec": {
   "display_name": "Python 3 (ipykernel)",
   "language": "python",
   "name": "python3"
  },
  "language_info": {
   "codemirror_mode": {
    "name": "ipython",
    "version": 3
   },
   "file_extension": ".py",
   "mimetype": "text/x-python",
   "name": "python",
   "nbconvert_exporter": "python",
   "pygments_lexer": "ipython3",
   "version": "3.10.9"
  }
 },
 "nbformat": 4,
 "nbformat_minor": 5
}
