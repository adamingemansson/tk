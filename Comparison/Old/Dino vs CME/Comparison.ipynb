{
 "cells": [
  {
   "cell_type": "code",
   "execution_count": 1,
   "id": "76cf6f24-3ff1-4659-b000-4676d9314bc0",
   "metadata": {},
   "outputs": [],
   "source": [
    "import csv\n",
    "import pandas as pd\n",
    "import numpy as np\n",
    "from collections import defaultdict"
   ]
  },
  {
   "cell_type": "code",
   "execution_count": 2,
   "id": "6090c4d4-74ba-4fde-b259-0a122ed3caa3",
   "metadata": {},
   "outputs": [],
   "source": [
    "df_Dino = pd.read_csv(\"Input Data/ap2_track.csv\", header = None)\n",
    "M_Dino = df_Dino.to_numpy()\n",
    "M_Dino[:, 2] += M_Dino[:, 1]-1\n",
    "M_Dino[:, 5] = 169 - M_Dino[:, 5]\n",
    "\n",
    "df_CME = pd.read_csv(\"Input Data/ap2_intensity_fix.csv\")\n",
    "df_CME = df_CME.drop(\"max_intensity\", axis=1)\n",
    "M_CME = df_CME.to_numpy()\n",
    "M_CME[:, 1:3] += 1\n",
    "\n",
    "comp_list = np.zeros((len(M_CME),19), dtype=object)"
   ]
  },
  {
   "cell_type": "code",
   "execution_count": 3,
   "id": "dcbc4177-b50f-40eb-b46e-a262260d5aeb",
   "metadata": {},
   "outputs": [],
   "source": [
    "t_vec = defaultdict(list)\n",
    "threshold = 5\n",
    "multi_match_list = []\n",
    "for vec_Dino in M_Dino:\n",
    "    t_vec[vec_Dino[2]].append(vec_Dino)\n",
    "\n",
    "for t_val in t_vec:\n",
    "    t_vec[t_val] = np.array(t_vec[t_val])\n",
    "\n",
    "for i, vec_CME in enumerate(M_CME):\n",
    "    t_val = vec_CME[2]\n",
    "    dino_group = t_vec[t_val]\n",
    "    diffs = dino_group[:, 3:6] - vec_CME[3:6]\n",
    "    dists = np.linalg.norm(diffs, axis=1)\n",
    "    min_idx = np.argmin(dists)\n",
    "    min_dist = dists[min_idx]\n",
    "    best_vec_Dino = dino_group[min_idx]\n",
    "    comp_list[i, 0:8] = vec_CME\n",
    "    comp_list[i, 8:16] = best_vec_Dino\n",
    "    comp_list[i, 16] = min_dist\n",
    "\n",
    "    # New list by threshold\n",
    "    below = np.where(dists < threshold)[0]\n",
    "    if len(below) > 0:\n",
    "        dino_ids = \",\".join(str(int(x)) for x in dino_group[below, 0])\n",
    "        dists_str = \",\".join(f\"{dists[j]:.2f}\" for j in below)\n",
    "    else:\n",
    "        dino_ids = \"\"\n",
    "        dists_str = \"\"\n",
    "    comp_list[i, 17] = dino_ids\n",
    "    comp_list[i, 18] = dists_str\n",
    "\n",
    "multi_match_array = np.array(multi_match_list, dtype=object)"
   ]
  },
  {
   "cell_type": "code",
   "execution_count": 4,
   "id": "bbef9aef-39e6-49aa-9bf0-4b6a85a5db59",
   "metadata": {},
   "outputs": [],
   "source": [
    "df_comp = pd.DataFrame(comp_list, columns = [\"ID (Dino)\",\"t_start (Dino)\", \"t\", \"x (Dino)\", \"y (Dino)\", \n",
    "                                             \"z (Dino)\", \"FI (Dino)\", \"Track Length (Dino)\", \"ID (CME)\", \n",
    "                                             \"t_start (CME)\", \"t_ig\", \"x (CME)\", \"y (CME)\", \"z (CME)\", \n",
    "                                             \"FI (CME)\", \"Track Length (CME)\", \"Distance\", \"Multi ID (CME)\", \"Multi Distance (CME)\"])\n",
    "\n",
    "df_comp = df_comp.drop(\"t_ig\", axis=1)\n",
    "df_comp = df_comp[[\"ID (Dino)\",\"ID (CME)\", \"x (Dino)\", \"y (Dino)\", \n",
    "                   \"z (Dino)\", \"x (CME)\", \"y (CME)\", \"z (CME)\", \n",
    "                   \"t\", \"t_start (Dino)\", \"t_start (CME)\",\"FI (Dino)\", \n",
    "                   \"FI (CME)\",\"Track Length (Dino)\", \"Track Length (CME)\", \"Distance\",\"Multi ID (CME)\", \"Multi Distance (CME)\"]] \n",
    "df_sorted = df_comp.sort_values(by=[\"ID (Dino)\",\"t\"], ascending=[True, True])"
   ]
  },
  {
   "cell_type": "code",
   "execution_count": 5,
   "id": "f8250138-96c0-4cb0-8c08-5793d5281d3e",
   "metadata": {},
   "outputs": [],
   "source": [
    "df_sorted.to_csv(\"Output Data/Comparison.csv\", index=False)"
   ]
  },
  {
   "cell_type": "code",
   "execution_count": null,
   "id": "db69a2a4-aa21-4c23-9d63-c66d799de5eb",
   "metadata": {},
   "outputs": [],
   "source": []
  },
  {
   "cell_type": "code",
   "execution_count": null,
   "id": "a4276487-ea60-4aba-bdf2-2104a9e1d8e7",
   "metadata": {},
   "outputs": [],
   "source": []
  }
 ],
 "metadata": {
  "kernelspec": {
   "display_name": "Python 3 (ipykernel)",
   "language": "python",
   "name": "python3"
  },
  "language_info": {
   "codemirror_mode": {
    "name": "ipython",
    "version": 3
   },
   "file_extension": ".py",
   "mimetype": "text/x-python",
   "name": "python",
   "nbconvert_exporter": "python",
   "pygments_lexer": "ipython3",
   "version": "3.11.8"
  }
 },
 "nbformat": 4,
 "nbformat_minor": 5
}
