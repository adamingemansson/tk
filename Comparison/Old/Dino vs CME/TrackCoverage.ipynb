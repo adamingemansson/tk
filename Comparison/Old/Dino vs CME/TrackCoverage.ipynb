{
 "cells": [
  {
   "cell_type": "code",
   "execution_count": 1,
   "id": "4538af08-d92b-41a3-b370-2dde4129a3df",
   "metadata": {},
   "outputs": [],
   "source": [
    "import csv\n",
    "import pandas as pd\n",
    "import numpy as np\n",
    "from collections import defaultdict"
   ]
  },
  {
   "cell_type": "code",
   "execution_count": 2,
   "id": "eb701a7c-ba1c-46b7-8ae4-c0bc9bf88416",
   "metadata": {},
   "outputs": [],
   "source": [
    "df_comp = pd.read_csv(\"Output Data/Comparison.csv\")\n",
    "M_comp = df_comp.to_numpy()"
   ]
  },
  {
   "cell_type": "code",
   "execution_count": 3,
   "id": "f1549c81-94dd-432a-9212-8a87b3505447",
   "metadata": {},
   "outputs": [],
   "source": [
    "ID_vec = defaultdict(list)\n",
    "\n",
    "for ID in M_comp:\n",
    "    ID_vec[ID[0]].append(ID)\n",
    "\n",
    "for ID_val in ID_vec:\n",
    "    ID_vec[ID_val] = np.array(ID_vec[ID_val]) \n",
    "\n",
    "ID_list = np.zeros((len(ID_vec),5), dtype=object)"
   ]
  },
  {
   "cell_type": "code",
   "execution_count": 4,
   "id": "9872a453-a91e-4ce7-9046-8a5a9ecdfa5c",
   "metadata": {},
   "outputs": [],
   "source": [
    "for i, ID in enumerate(ID_vec):\n",
    "    ID_val = ID_vec[ID]\n",
    "    track_coverage = np.sum(ID_val[:,15] < 3.5)\n",
    "    missing_t = ID_val[ID_val[:, 15] > 3.5][:,8]\n",
    "    ID_list[i][0] = ID_val[0][0]\n",
    "    ID_list[i][1] = ID_val[0][13]\n",
    "    ID_list[i][2] = track_coverage\n",
    "    ID_list[i][3] = missing_t.tolist()\n",
    "    block_starts = np.where(np.diff(ID_val[:,1]) != 0)[0] + 1\n",
    "    block_starts = np.insert(block_starts, 0, 0)\n",
    "    track_index = np.where(np.diff(ID_val[:,1]) != 0)[0] + 1\n",
    "    track_index = np.insert(track_index, 0, 0)\n",
    "    Dino_ID = ID_val[:,1][block_starts]\n",
    "    track_lengths = ID_val[:,14][track_index]\n",
    "    Dino = np.stack((Dino_ID,block_starts+1,track_lengths), axis=1)\n",
    "    Dino_all = ';'.join([','.join(map(str, row)) for row in Dino])\n",
    "    ID_list[i][4] = Dino_all\n"
   ]
  },
  {
   "cell_type": "code",
   "execution_count": 5,
   "id": "dc4dda8a-595f-477f-95a3-8b2d129cef38",
   "metadata": {},
   "outputs": [],
   "source": [
    "df_ID = pd.DataFrame(ID_list, columns = [\"ID (Dino)\",\"Track Length (Dino)\",\"Track Coverage\",\"Missing Time Points\",\"CME Data\"])"
   ]
  },
  {
   "cell_type": "code",
   "execution_count": 6,
   "id": "00d85879-5e3a-4d40-b64e-5f963799145b",
   "metadata": {},
   "outputs": [],
   "source": [
    "df_ID.to_csv(\"Output Data/ID_Coverage.csv\", index = False)"
   ]
  },
  {
   "cell_type": "code",
   "execution_count": null,
   "id": "104122a5-7b9b-48be-93a2-e3713f27baf8",
   "metadata": {},
   "outputs": [],
   "source": []
  }
 ],
 "metadata": {
  "kernelspec": {
   "display_name": "Python 3 (ipykernel)",
   "language": "python",
   "name": "python3"
  },
  "language_info": {
   "codemirror_mode": {
    "name": "ipython",
    "version": 3
   },
   "file_extension": ".py",
   "mimetype": "text/x-python",
   "name": "python",
   "nbconvert_exporter": "python",
   "pygments_lexer": "ipython3",
   "version": "3.11.8"
  }
 },
 "nbformat": 4,
 "nbformat_minor": 5
}
